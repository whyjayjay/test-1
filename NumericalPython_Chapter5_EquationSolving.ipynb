{
  "nbformat": 4,
  "nbformat_minor": 0,
  "metadata": {
    "colab": {
      "name": "NumericalPython_Chapter5_EquationSolving.ipynb",
      "provenance": [],
      "authorship_tag": "ABX9TyMlWN3kyuFlhocOPCUmXBUA",
      "include_colab_link": true
    },
    "kernelspec": {
      "name": "python3",
      "display_name": "Python 3"
    }
  },
  "cells": [
    {
      "cell_type": "markdown",
      "metadata": {
        "id": "view-in-github",
        "colab_type": "text"
      },
      "source": [
        "<a href=\"https://colab.research.google.com/github/whyjayjay/test-1/blob/master/NumericalPython_Chapter5_EquationSolving.ipynb\" target=\"_parent\"><img src=\"https://colab.research.google.com/assets/colab-badge.svg\" alt=\"Open In Colab\"/></a>"
      ]
    },
    {
      "cell_type": "code",
      "metadata": {
        "id": "0WSJUH9hR21b"
      },
      "source": [
        "# The topic of this chapter is algebraic equation solving.\n",
        "# Importing Modules\n",
        "from scipy import linalg as la\n",
        "from scipy import optimize\n",
        "import numpy as np\n",
        "import matplotlib.pyplot as plt\n",
        "import sympy\n",
        "sympy.init_printing() "
      ],
      "execution_count": null,
      "outputs": []
    },
    {
      "cell_type": "code",
      "metadata": {
        "colab": {
          "base_uri": "https://localhost:8080/",
          "height": 71
        },
        "id": "MZV2lsjiVUV3",
        "outputId": "946914a7-a470-409d-cc2c-29c6b8b4c653"
      },
      "source": [
        "# Linear Equation Systems \n",
        "# Square Systems\n",
        "# 2x1 + 3x2 = 4\n",
        "# 5x1 + 4x2 = 23\n",
        "\n",
        "A = sympy.Matrix([[2,3],[5,4]])\n",
        "b = sympy.Matrix([4,3])\n",
        "\n",
        "print(A.rank())\n",
        "A.condition_number()"
      ],
      "execution_count": null,
      "outputs": [
        {
          "output_type": "stream",
          "text": [
            "2\n"
          ],
          "name": "stdout"
        },
        {
          "output_type": "execute_result",
          "data": {
            "image/png": "[encoded data removed]",
            "text/latex": "$$\\frac{\\sqrt{2 \\sqrt{170} + 27}}{\\sqrt{- 2 \\sqrt{170} + 27}}$$",
            "text/plain": [
              "  _____________ \n",
              "╲╱ 2⋅√170 + 27  \n",
              "────────────────\n",
              "  ______________\n",
              "╲╱ -2⋅√170 + 27 "
            ]
          },
          "metadata": {
            "tags": []
          },
          "execution_count": 9
        }
      ]
    },
    {
      "cell_type": "code",
      "metadata": {
        "colab": {
          "base_uri": "https://localhost:8080/",
          "height": 37
        },
        "id": "4lOZCZvrZqJE",
        "outputId": "aed23c2b-a86b-44ca-94c8-3d8316f0506f"
      },
      "source": [
        "sympy.N(_)"
      ],
      "execution_count": null,
      "outputs": [
        {
          "output_type": "execute_result",
          "data": {
            "image/png": "[encoded data removed]",
            "text/latex": "$$7.58240137440151$$",
            "text/plain": [
              "7.58240137440151"
            ]
          },
          "metadata": {
            "tags": []
          },
          "execution_count": 11
        }
      ]
    },
    {
      "cell_type": "code",
      "metadata": {
        "colab": {
          "base_uri": "https://localhost:8080/",
          "height": 38
        },
        "id": "ABfDqnSGa22Z",
        "outputId": "a2ae3e0b-8a29-400b-998e-7c5c9038029b"
      },
      "source": [
        "A.norm()"
      ],
      "execution_count": null,
      "outputs": [
        {
          "output_type": "execute_result",
          "data": {
            "image/png": "[encoded data removed]",
            "text/latex": "$$3 \\sqrt{6}$$",
            "text/plain": [
              "3⋅√6"
            ]
          },
          "metadata": {
            "tags": []
          },
          "execution_count": 12
        }
      ]
    },
    {
      "cell_type": "code",
      "metadata": {
        "colab": {
          "base_uri": "https://localhost:8080/"
        },
        "id": "MtT2ROW2a8Sw",
        "outputId": "b38ecafb-7c4e-4652-a647-2ae3274010ff"
      },
      "source": [
        "A = np.array([[2,3],[5,4]])\n",
        "b = np.array([4,3])\n",
        "\n",
        "np.linalg.matrix_rank(A)"
      ],
      "execution_count": null,
      "outputs": [
        {
          "output_type": "execute_result",
          "data": {
            "text/plain": [
              "2"
            ]
          },
          "metadata": {
            "tags": []
          },
          "execution_count": 13
        }
      ]
    },
    {
      "cell_type": "code",
      "metadata": {
        "colab": {
          "base_uri": "https://localhost:8080/",
          "height": 37
        },
        "id": "s00BMdNXbVkq",
        "outputId": "f881d4a7-95ad-4a4a-fa09-b61d384d6314"
      },
      "source": [
        "np.linalg.cond(A)"
      ],
      "execution_count": null,
      "outputs": [
        {
          "output_type": "execute_result",
          "data": {
            "image/png": "[encoded data removed]",
            "text/latex": "$$7.582401374401516$$",
            "text/plain": [
              "7.582401374401516"
            ]
          },
          "metadata": {
            "tags": []
          },
          "execution_count": 14
        }
      ]
    },
    {
      "cell_type": "code",
      "metadata": {
        "colab": {
          "base_uri": "https://localhost:8080/",
          "height": 37
        },
        "id": "lxeBVzYEbXjN",
        "outputId": "576fc975-8b39-4915-f16c-45176d9f7290"
      },
      "source": [
        "np.linalg.norm(A)"
      ],
      "execution_count": null,
      "outputs": [
        {
          "output_type": "execute_result",
          "data": {
            "image/png": "[encoded data removed]",
            "text/latex": "$$7.3484692283495345$$",
            "text/plain": [
              "7.3484692283495345"
            ]
          },
          "metadata": {
            "tags": []
          },
          "execution_count": 15
        }
      ]
    },
    {
      "cell_type": "code",
      "metadata": {
        "colab": {
          "base_uri": "https://localhost:8080/",
          "height": 58
        },
        "id": "xRr4JMX1cNPo",
        "outputId": "f460da7c-f23c-4f1a-f9ec-a1628b16204e"
      },
      "source": [
        "# LU Decomposition\n",
        "A = sympy.Matrix([[2,3],[5,4]])\n",
        "b = sympy.Matrix([4,3])\n",
        "\n",
        "L, U, _ = A.LUdecomposition()\n",
        "L"
      ],
      "execution_count": null,
      "outputs": [
        {
          "output_type": "execute_result",
          "data": {
            "text/latex": "$$\\left[\\begin{matrix}1 & 0\\\\\\frac{5}{2} & 1\\end{matrix}\\right]$$",
            "text/plain": [
              "⎡ 1   0⎤\n",
              "⎢      ⎥\n",
              "⎣5/2  1⎦"
            ]
          },
          "metadata": {
            "tags": []
          },
          "execution_count": 16
        }
      ]
    },
    {
      "cell_type": "code",
      "metadata": {
        "colab": {
          "base_uri": "https://localhost:8080/",
          "height": 58
        },
        "id": "kaz1cUxieJtF",
        "outputId": "128aa85f-8afe-40b5-f195-14466d7031f1"
      },
      "source": [
        "U"
      ],
      "execution_count": null,
      "outputs": [
        {
          "output_type": "execute_result",
          "data": {
            "text/latex": "$$\\left[\\begin{matrix}2 & 3\\\\0 & - \\frac{7}{2}\\end{matrix}\\right]$$",
            "text/plain": [
              "⎡2   3  ⎤\n",
              "⎢       ⎥\n",
              "⎣0  -7/2⎦"
            ]
          },
          "metadata": {
            "tags": []
          },
          "execution_count": 17
        }
      ]
    },
    {
      "cell_type": "code",
      "metadata": {
        "colab": {
          "base_uri": "https://localhost:8080/",
          "height": 58
        },
        "id": "Mrb7t1AveSFh",
        "outputId": "d7600b88-0667-4cd2-d534-0bc8f9de4260"
      },
      "source": [
        "L * U"
      ],
      "execution_count": null,
      "outputs": [
        {
          "output_type": "execute_result",
          "data": {
            "text/latex": "$$\\left[\\begin{matrix}2 & 3\\\\5 & 4\\end{matrix}\\right]$$",
            "text/plain": [
              "⎡2  3⎤\n",
              "⎢    ⎥\n",
              "⎣5  4⎦"
            ]
          },
          "metadata": {
            "tags": []
          },
          "execution_count": 18
        }
      ]
    },
    {
      "cell_type": "code",
      "metadata": {
        "colab": {
          "base_uri": "https://localhost:8080/",
          "height": 58
        },
        "id": "xyUtRCbzeWsy",
        "outputId": "eb837515-020a-4ef3-e107-4392e351c78d"
      },
      "source": [
        "x = A.solve(b); x   # equivalent to A.LUsolve(b)"
      ],
      "execution_count": null,
      "outputs": [
        {
          "output_type": "execute_result",
          "data": {
            "text/latex": "$$\\left[\\begin{matrix}-1\\\\2\\end{matrix}\\right]$$",
            "text/plain": [
              "⎡-1⎤\n",
              "⎢  ⎥\n",
              "⎣2 ⎦"
            ]
          },
          "metadata": {
            "tags": []
          },
          "execution_count": 19
        }
      ]
    },
    {
      "cell_type": "code",
      "metadata": {
        "colab": {
          "base_uri": "https://localhost:8080/"
        },
        "id": "lKRWTQIqekTV",
        "outputId": "7b858814-a0fd-47d7-d325-23daaea717b5"
      },
      "source": [
        "P, L, U = la.lu(A)\n",
        "L"
      ],
      "execution_count": null,
      "outputs": [
        {
          "output_type": "execute_result",
          "data": {
            "text/plain": [
              "array([[1. , 0. ],\n",
              "       [0.4, 1. ]])"
            ]
          },
          "metadata": {
            "tags": []
          },
          "execution_count": 20
        }
      ]
    },
    {
      "cell_type": "code",
      "metadata": {
        "colab": {
          "base_uri": "https://localhost:8080/"
        },
        "id": "drNXmwEkgHYz",
        "outputId": "487a561d-1f69-4980-fbe9-b88d565ab16b"
      },
      "source": [
        "U"
      ],
      "execution_count": null,
      "outputs": [
        {
          "output_type": "execute_result",
          "data": {
            "text/plain": [
              "array([[5. , 4. ],\n",
              "       [0. , 1.4]])"
            ]
          },
          "metadata": {
            "tags": []
          },
          "execution_count": 21
        }
      ]
    },
    {
      "cell_type": "code",
      "metadata": {
        "colab": {
          "base_uri": "https://localhost:8080/"
        },
        "id": "XenlBe__gLsv",
        "outputId": "e6a53540-2350-473d-9d05-491947e5c6a7"
      },
      "source": [
        "L * U"
      ],
      "execution_count": null,
      "outputs": [
        {
          "output_type": "execute_result",
          "data": {
            "text/plain": [
              "array([[5. , 0. ],\n",
              "       [0. , 1.4]])"
            ]
          },
          "metadata": {
            "tags": []
          },
          "execution_count": 22
        }
      ]
    },
    {
      "cell_type": "code",
      "metadata": {
        "colab": {
          "base_uri": "https://localhost:8080/"
        },
        "id": "K82dhLJ5gQqC",
        "outputId": "65e04cdf-eba8-4be9-99b5-9d639971cbbb"
      },
      "source": [
        "A = np.array([[2,3],[5,4]])\n",
        "b = np.array([4,3])\n",
        "la.solve(A,b)"
      ],
      "execution_count": null,
      "outputs": [
        {
          "output_type": "execute_result",
          "data": {
            "text/plain": [
              "array([-1.,  2.])"
            ]
          },
          "metadata": {
            "tags": []
          },
          "execution_count": 27
        }
      ]
    },
    {
      "cell_type": "code",
      "metadata": {
        "id": "ftmtKZlAgV9N",
        "colab": {
          "base_uri": "https://localhost:8080/",
          "height": 79
        },
        "outputId": "4ad099dd-67d2-40d1-9cb5-912e509c62db"
      },
      "source": [
        "p = sympy.symbols(\"p\", positive=True)\n",
        "A = sympy.Matrix([[1,sympy.sqrt(p)],[1,1/sympy.sqrt(p)]])\n",
        "b = sympy.Matrix([1,2])\n",
        "\n",
        "x = A.solve(b)\n",
        "x"
      ],
      "execution_count": null,
      "outputs": [
        {
          "output_type": "execute_result",
          "data": {
            "text/latex": "$$\\left[\\begin{matrix}- \\frac{2 \\sqrt{p}}{- \\sqrt{p} + \\frac{1}{\\sqrt{p}}} + \\frac{1}{\\sqrt{p} \\left(- \\sqrt{p} + \\frac{1}{\\sqrt{p}}\\right)}\\\\\\frac{1}{- \\sqrt{p} + \\frac{1}{\\sqrt{p}}}\\end{matrix}\\right]$$",
            "text/plain": [
              "⎡    2⋅√p           1      ⎤\n",
              "⎢- ──────── + ─────────────⎥\n",
              "⎢        1       ⎛      1 ⎞⎥\n",
              "⎢  -√p + ──   √p⋅⎜-√p + ──⎟⎥\n",
              "⎢        √p      ⎝      √p⎠⎥\n",
              "⎢                          ⎥\n",
              "⎢            1             ⎥\n",
              "⎢         ────────         ⎥\n",
              "⎢               1          ⎥\n",
              "⎢         -√p + ──         ⎥\n",
              "⎣               √p         ⎦"
            ]
          },
          "metadata": {
            "tags": []
          },
          "execution_count": 2
        }
      ]
    },
    {
      "cell_type": "code",
      "metadata": {
        "colab": {
          "base_uri": "https://localhost:8080/",
          "height": 335
        },
        "id": "ml50IJWN5LFP",
        "outputId": "a1025fcd-8294-4f77-961f-12c6540c3e20"
      },
      "source": [
        "# Symbolic problem specification\n",
        "p = sympy.symbols(\"p\", positive=True)\n",
        "A = sympy.Matrix([[1,sympy.sqrt(p)],[1,1/sympy.sqrt(p)]])\n",
        "b = sympy.Matrix([1,2])\n",
        "\n",
        "# Solve symbolically\n",
        "x_sym_sol = A.solve(b)\n",
        "Acond     = A.condition_number().simplify()\n",
        "\n",
        "# Numerical problem specification\n",
        "AA = lambda p: np.array([[1,np.sqrt(p)],[1,1/np.sqrt(p)]])\n",
        "bb = np.array(([1,2]))\n",
        "x_num_sol = lambda p: np.linalg.solve(AA(p), bb)\n",
        "\n",
        "# Graph th edifference between the symbolic (exact) and numerical results.\n",
        "fig, axes = plt.subplots(1,2,figsize=(12,4))\n",
        "p_vec = np.linspace(0.9, 1.1, 200)\n",
        "for n in range(2):\n",
        "    x_sym = np.array([x_sym_sol[n].subs(p,pp).evalf() for pp in p_vec])\n",
        "    x_num = np.array([x_num_sol(pp)[n] for pp in p_vec])\n",
        "\n",
        "axes[0].plot(p_vec, (x_num - x_sym)/x_sym, 'k')\n",
        "axes[0].set_title(\"Error in solution\\n(symbolic - numerical)\")\n",
        "\n",
        "axes[1].plot(p_vec, [Acond.subs(p, pp).evalf() for pp in p_vec]) \n",
        "axes[1].set_title(\"Condition number\")\n",
        "axes[1].set_xlabel(r'$x$', fontsize=18)\n"
      ],
      "execution_count": null,
      "outputs": [
        {
          "output_type": "execute_result",
          "data": {
            "text/plain": [
              "Text(0.5, 0, '$x$')"
            ]
          },
          "metadata": {
            "tags": []
          },
          "execution_count": 13
        },
        {
          "output_type": "display_data",
          "data": {
            "image/png": "[encoded data removed]",
            "text/plain": [
              "<Figure size 864x288 with 2 Axes>"
            ]
          },
          "metadata": {
            "tags": [],
            "needs_background": "light"
          }
        }
      ]
    },
    {
      "cell_type": "code",
      "metadata": {
        "colab": {
          "base_uri": "https://localhost:8080/",
          "height": 38
        },
        "id": "-wyaA9Qb7e-q",
        "outputId": "136510fe-02d6-4f8c-ff3e-12f24d1ae1a6"
      },
      "source": [
        "# Rectangular Systems\n",
        "x_vars = sympy.symbols(\"x_1, x_2, x_3\")\n",
        "A      = sympy.Matrix([[1,2,3],[4,5,6]])\n",
        "x      = sympy.Matrix(x_vars)\n",
        "b      = sympy.Matrix([7,8])\n",
        "\n",
        "sympy.solve(A*x - b, x_vars)"
      ],
      "execution_count": null,
      "outputs": [
        {
          "output_type": "execute_result",
          "data": {
            "image/png": "[encoded data removed]",
            "text/latex": "$$\\left \\{ x_{1} : x_{3} - \\frac{19}{3}, \\quad x_{2} : - 2 x_{3} + \\frac{20}{3}\\right \\}$$",
            "text/plain": [
              "{x₁: x₃ - 19/3, x₂: -2⋅x₃ + 20/3}"
            ]
          },
          "metadata": {
            "tags": []
          },
          "execution_count": 14
        }
      ]
    },
    {
      "cell_type": "code",
      "metadata": {
        "colab": {
          "base_uri": "https://localhost:8080/",
          "height": 304
        },
        "id": "DOY0DiFy9eyA",
        "outputId": "c957d00f-48e2-497c-c973-1798873cc2c8"
      },
      "source": [
        "# Linear least square fit example\n",
        "# define true model parameters\n",
        "x = np.linspace(-1,1,100) \n",
        "a,b,c = 1,2,3\n",
        "\n",
        "y_exact = a + b*x + c*x**2\n",
        "\n",
        "# simulate noisy data\n",
        "m = 100\n",
        "X = 1 - 2*np.random.rand(m) \n",
        "Y = a + b*X + c*X**2 + np.random.randn(m) \n",
        "\n",
        "# fit the data to the model using linear least square\n",
        "A   = np.vstack([X**0, X**1, X**2])   # see np.vander for alternative\n",
        "sol,r,rank,s = la.lstsq(A.T, Y)\n",
        "\n",
        "y_fit = sol[0] + sol[1]*x + sol[2]*x**2\n",
        "\n",
        "fig, ax = plt.subplots(figsize=(12,4))\n",
        "ax.plot(X, Y,'go', alpha=0.5, label='Simulated data')\n",
        "ax.plot(x, y_exact, 'k', lw=2, label='True value $y = 1 + 2x + 3x^2$')\n",
        "ax.plot(x, y_fit  , 'b', lw=2, label='Least square fit')\n",
        "ax.set_xlabel(r\"$x$\", fontsize=18)\n",
        "ax.set_ylabel(r\"$y$\", fontsize=18)\n",
        "ax.legend(loc=2)"
      ],
      "execution_count": null,
      "outputs": [
        {
          "output_type": "execute_result",
          "data": {
            "text/plain": [
              "<matplotlib.legend.Legend at 0x7f00e25435c0>"
            ]
          },
          "metadata": {
            "tags": []
          },
          "execution_count": 16
        },
        {
          "output_type": "display_data",
          "data": {
            "image/png": "[encoded data removed]",
            "text/plain": [
              "<Figure size 864x288 with 1 Axes>"
            ]
          },
          "metadata": {
            "tags": [],
            "needs_background": "light"
          }
        }
      ]
    },
    {
      "cell_type": "code",
      "metadata": {
        "colab": {
          "base_uri": "https://localhost:8080/",
          "height": 307
        },
        "id": "5kGTTvQ3ACRK",
        "outputId": "02aa6303-cd13-485b-d840-21d35f44d104"
      },
      "source": [
        "# Graph demonstrating underfitting and overfitting of data using the linear\n",
        "# least square method\n",
        "\n",
        "# fit the data to the model using linear least square:\n",
        "# 1st order polynomial\n",
        "A = np.vstack([X**n for n in range(2)])\n",
        "sol,r,rank,sv = la.lstsq(A.T,Y)\n",
        "y_fit1 = sum([s*x**n for n, s in enumerate(sol)])\n",
        "\n",
        "# 15th order polynomial\n",
        "A = np.vstack([X**n for n in range(16)])\n",
        "sol, r, rank, sv = la.lstsq(A.T, Y)\n",
        "y_fit15 = sum([s*x**n for n, s in enumerate(sol)])\n",
        "\n",
        "fig, ax = plt.subplots(figsize=(12,4))\n",
        "ax.plot(X, Y, 'go', alpha=0.5, label='Simulated data')\n",
        "ax.plot(x, y_exact, 'k', lw=2, label='True value $y = 1 + 2x + 3x^2$')\n",
        "ax.plot(x, y_fit1, 'b', lw=2, label='Least square fit [1st order]')\n",
        "ax.plot(x, y_fit15, 'm', lw=2, label='Least square fit [15th order]') \n",
        "ax.set_xlabel(r\"$x$\", fontsize=18)\n",
        "ax.set_ylabel(r\"$y$\", fontsize=18)\n",
        "ax.legend(loc=2)"
      ],
      "execution_count": null,
      "outputs": [
        {
          "output_type": "execute_result",
          "data": {
            "text/plain": [
              "<matplotlib.legend.Legend at 0x7f00e247cc88>"
            ]
          },
          "metadata": {
            "tags": []
          },
          "execution_count": 18
        },
        {
          "output_type": "display_data",
          "data": {
            "image/png": "[encoded data removed]",
            "text/plain": [
              "<Figure size 864x288 with 1 Axes>"
            ]
          },
          "metadata": {
            "tags": [],
            "needs_background": "light"
          }
        }
      ]
    },
    {
      "cell_type": "code",
      "metadata": {
        "colab": {
          "base_uri": "https://localhost:8080/",
          "height": 58
        },
        "id": "sLM8lZKABNLq",
        "outputId": "04f9540e-d6d7-4e6d-f51a-e4c3e4d562bf"
      },
      "source": [
        "# Eigenvalue Problems\n",
        "eps, delta = sympy.symbols(\"epsilon, Delta\") \n",
        "H = sympy.Matrix([[eps, delta],[delta,-eps]])\n",
        "H"
      ],
      "execution_count": null,
      "outputs": [
        {
          "output_type": "execute_result",
          "data": {
            "text/latex": "$$\\left[\\begin{matrix}\\epsilon & \\Delta\\\\\\Delta & - \\epsilon\\end{matrix}\\right]$$",
            "text/plain": [
              "⎡ε  Δ ⎤\n",
              "⎢     ⎥\n",
              "⎣Δ  -ε⎦"
            ]
          },
          "metadata": {
            "tags": []
          },
          "execution_count": 19
        }
      ]
    },
    {
      "cell_type": "code",
      "metadata": {
        "colab": {
          "base_uri": "https://localhost:8080/",
          "height": 38
        },
        "id": "vTSggI6kDfbV",
        "outputId": "b6449b93-b08a-4241-86ba-fade70c471f9"
      },
      "source": [
        "H.eigenvals()"
      ],
      "execution_count": null,
      "outputs": [
        {
          "output_type": "execute_result",
          "data": {
            "image/png": "[encoded data removed]",
            "text/latex": "$$\\left \\{ - \\sqrt{\\Delta^{2} + \\epsilon^{2}} : 1, \\quad \\sqrt{\\Delta^{2} + \\epsilon^{2}} : 1\\right \\}$$",
            "text/plain": [
              "⎧    _________        _________   ⎫\n",
              "⎨   ╱  2    2        ╱  2    2    ⎬\n",
              "⎩-╲╱  Δ  + ε  : 1, ╲╱  Δ  + ε  : 1⎭"
            ]
          },
          "metadata": {
            "tags": []
          },
          "execution_count": 20
        }
      ]
    },
    {
      "cell_type": "code",
      "metadata": {
        "colab": {
          "base_uri": "https://localhost:8080/",
          "height": 61
        },
        "id": "nWv4wdGKDifg",
        "outputId": "14763015-2063-4c62-930c-bd7ca589a98c"
      },
      "source": [
        "H.eigenvects()"
      ],
      "execution_count": null,
      "outputs": [
        {
          "output_type": "execute_result",
          "data": {
            "text/latex": "$$\\left [ \\left ( - \\sqrt{\\Delta^{2} + \\epsilon^{2}}, \\quad 1, \\quad \\left [ \\left[\\begin{matrix}- \\frac{\\Delta}{\\epsilon + \\sqrt{\\Delta^{2} + \\epsilon^{2}}}\\\\1\\end{matrix}\\right]\\right ]\\right ), \\quad \\left ( \\sqrt{\\Delta^{2} + \\epsilon^{2}}, \\quad 1, \\quad \\left [ \\left[\\begin{matrix}- \\frac{\\Delta}{\\epsilon - \\sqrt{\\Delta^{2} + \\epsilon^{2}}}\\\\1\\end{matrix}\\right]\\right ]\\right )\\right ]$$",
            "text/plain": [
              "⎡⎛                  ⎡⎡      -Δ        ⎤⎤⎞  ⎛                 ⎡⎡      -Δ       \n",
              "⎢⎜    _________     ⎢⎢────────────────⎥⎥⎟  ⎜   _________     ⎢⎢───────────────\n",
              "⎢⎜   ╱  2    2      ⎢⎢       _________⎥⎥⎟  ⎜  ╱  2    2      ⎢⎢       ________\n",
              "⎢⎜-╲╱  Δ  + ε  , 1, ⎢⎢      ╱  2    2 ⎥⎥⎟, ⎜╲╱  Δ  + ε  , 1, ⎢⎢      ╱  2    2\n",
              "⎢⎜                  ⎢⎢ε + ╲╱  Δ  + ε  ⎥⎥⎟  ⎜                 ⎢⎢ε - ╲╱  Δ  + ε \n",
              "⎢⎜                  ⎢⎢                ⎥⎥⎟  ⎜                 ⎢⎢               \n",
              "⎣⎝                  ⎣⎣       1        ⎦⎦⎠  ⎝                 ⎣⎣       1       \n",
              "\n",
              " ⎤⎤⎞⎤\n",
              "─⎥⎥⎟⎥\n",
              "_⎥⎥⎟⎥\n",
              " ⎥⎥⎟⎥\n",
              " ⎥⎥⎟⎥\n",
              " ⎥⎥⎟⎥\n",
              " ⎦⎦⎠⎦"
            ]
          },
          "metadata": {
            "tags": []
          },
          "execution_count": 21
        }
      ]
    },
    {
      "cell_type": "code",
      "metadata": {
        "colab": {
          "base_uri": "https://localhost:8080/",
          "height": 38
        },
        "id": "eMO1tMqBDnQn",
        "outputId": "b80ec1e3-532b-47fc-a5a8-933c51496424"
      },
      "source": [
        "(eval1, _, evec1), (eval2, _, evec2) = H.eigenvects()\n",
        "sympy.simplify(evec1[0].T * evec2[0])"
      ],
      "execution_count": null,
      "outputs": [
        {
          "output_type": "execute_result",
          "data": {
            "text/latex": "$$\\left[\\begin{matrix}0\\end{matrix}\\right]$$",
            "text/plain": [
              "[0]"
            ]
          },
          "metadata": {
            "tags": []
          },
          "execution_count": 23
        }
      ]
    },
    {
      "cell_type": "code",
      "metadata": {
        "colab": {
          "base_uri": "https://localhost:8080/"
        },
        "id": "OCq0-dEbEKVE",
        "outputId": "cf528347-b2f8-4eab-e822-3cdab0be9227"
      },
      "source": [
        "A = np.array([[1,3,5],[3,5,3],[5,3,9]])\n",
        "evals, evecs = la.eig(A) \n",
        "evecs"
      ],
      "execution_count": null,
      "outputs": [
        {
          "output_type": "execute_result",
          "data": {
            "text/plain": [
              "array([[ 0.42663918,  0.90353276, -0.04009445],\n",
              "       [ 0.43751227, -0.24498225, -0.8651975 ],\n",
              "       [ 0.79155671, -0.35158534,  0.49982569]])"
            ]
          },
          "metadata": {
            "tags": []
          },
          "execution_count": 25
        }
      ]
    },
    {
      "cell_type": "code",
      "metadata": {
        "colab": {
          "base_uri": "https://localhost:8080/"
        },
        "id": "mb8TOpCUFSEJ",
        "outputId": "dc258a51-8737-4832-ec93-ccef276acf32"
      },
      "source": [
        "la.eigvalsh(A)"
      ],
      "execution_count": null,
      "outputs": [
        {
          "output_type": "execute_result",
          "data": {
            "text/plain": [
              "array([-1.75902942,  3.40592034, 13.35310908])"
            ]
          },
          "metadata": {
            "tags": []
          },
          "execution_count": 26
        }
      ]
    },
    {
      "cell_type": "code",
      "metadata": {
        "colab": {
          "base_uri": "https://localhost:8080/",
          "height": 38
        },
        "id": "LLXIODmrFYNx",
        "outputId": "688b696d-d6b0-441a-aa7c-097c1f8a539a"
      },
      "source": [
        "# Nonlinear Equations\n",
        "# Univariate Equations\n",
        "x, a, b, c = sympy.symbols(\"x,a,b,c\")\n",
        "sympy.solve(a + b*x + c*x**2, x)"
      ],
      "execution_count": null,
      "outputs": [
        {
          "output_type": "execute_result",
          "data": {
            "image/png": "[encoded data removed]",
            "text/latex": "$$\\left [ \\frac{1}{2 c} \\left(- b + \\sqrt{- 4 a c + b^{2}}\\right), \\quad - \\frac{1}{2 c} \\left(b + \\sqrt{- 4 a c + b^{2}}\\right)\\right ]$$",
            "text/plain": [
              "⎡        _____________   ⎛       _____________⎞ ⎤\n",
              "⎢       ╱           2    ⎜      ╱           2 ⎟ ⎥\n",
              "⎢-b + ╲╱  -4⋅a⋅c + b    -⎝b + ╲╱  -4⋅a⋅c + b  ⎠ ⎥\n",
              "⎢─────────────────────, ────────────────────────⎥\n",
              "⎣         2⋅c                     2⋅c           ⎦"
            ]
          },
          "metadata": {
            "tags": []
          },
          "execution_count": 27
        }
      ]
    },
    {
      "cell_type": "code",
      "metadata": {
        "colab": {
          "base_uri": "https://localhost:8080/",
          "height": 38
        },
        "id": "EW-3iOxaHCmx",
        "outputId": "d6e4377d-b526-4961-f52e-0727606275ca"
      },
      "source": [
        "sympy.solve(a * sympy.cos(x) - b * sympy.sin(x), x)"
      ],
      "execution_count": null,
      "outputs": [
        {
          "output_type": "execute_result",
          "data": {
            "image/png": "[encoded data removed]",
            "text/latex": "$$\\left [ - 2 \\operatorname{atan}{\\left (\\frac{1}{a} \\left(b - \\sqrt{a^{2} + b^{2}}\\right) \\right )}, \\quad - 2 \\operatorname{atan}{\\left (\\frac{1}{a} \\left(b + \\sqrt{a^{2} + b^{2}}\\right) \\right )}\\right ]$$",
            "text/plain": [
              "⎡       ⎛       _________⎞         ⎛       _________⎞⎤\n",
              "⎢       ⎜      ╱  2    2 ⎟         ⎜      ╱  2    2 ⎟⎥\n",
              "⎢       ⎜b - ╲╱  a  + b  ⎟         ⎜b + ╲╱  a  + b  ⎟⎥\n",
              "⎢-2⋅atan⎜────────────────⎟, -2⋅atan⎜────────────────⎟⎥\n",
              "⎣       ⎝       a        ⎠         ⎝       a        ⎠⎦"
            ]
          },
          "metadata": {
            "tags": []
          },
          "execution_count": 28
        }
      ]
    },
    {
      "cell_type": "code",
      "metadata": {
        "colab": {
          "base_uri": "https://localhost:8080/",
          "height": 379
        },
        "id": "PxbmaZNGHaUv",
        "outputId": "ac98363a-5b9b-4a5f-c167-d24f92fdecc3"
      },
      "source": [
        "sympy.solve(sympy.sin(x) - x, x)"
      ],
      "execution_count": null,
      "outputs": [
        {
          "output_type": "error",
          "ename": "NotImplementedError",
          "evalue": "ignored",
          "traceback": [
            "\u001b[0;31m---------------------------------------------------------------------------\u001b[0m",
            "\u001b[0;31mNotImplementedError\u001b[0m                       Traceback (most recent call last)",
            "\u001b[0;32m<ipython-input-29-3da57059228f>\u001b[0m in \u001b[0;36m<module>\u001b[0;34m()\u001b[0m\n\u001b[0;32m----> 1\u001b[0;31m \u001b[0msympy\u001b[0m\u001b[0;34m.\u001b[0m\u001b[0msolve\u001b[0m\u001b[0;34m(\u001b[0m\u001b[0msympy\u001b[0m\u001b[0;34m.\u001b[0m\u001b[0msin\u001b[0m\u001b[0;34m(\u001b[0m\u001b[0mx\u001b[0m\u001b[0;34m)\u001b[0m \u001b[0;34m-\u001b[0m \u001b[0mx\u001b[0m\u001b[0;34m,\u001b[0m \u001b[0mx\u001b[0m\u001b[0;34m)\u001b[0m\u001b[0;34m\u001b[0m\u001b[0;34m\u001b[0m\u001b[0m\n\u001b[0m",
            "\u001b[0;32m/usr/local/lib/python3.6/dist-packages/sympy/solvers/solvers.py\u001b[0m in \u001b[0;36msolve\u001b[0;34m(f, *symbols, **flags)\u001b[0m\n\u001b[1;32m   1063\u001b[0m     \u001b[0;31m###########################################################################\u001b[0m\u001b[0;34m\u001b[0m\u001b[0;34m\u001b[0m\u001b[0;34m\u001b[0m\u001b[0m\n\u001b[1;32m   1064\u001b[0m     \u001b[0;32mif\u001b[0m \u001b[0mbare_f\u001b[0m\u001b[0;34m:\u001b[0m\u001b[0;34m\u001b[0m\u001b[0;34m\u001b[0m\u001b[0m\n\u001b[0;32m-> 1065\u001b[0;31m         \u001b[0msolution\u001b[0m \u001b[0;34m=\u001b[0m \u001b[0m_solve\u001b[0m\u001b[0;34m(\u001b[0m\u001b[0mf\u001b[0m\u001b[0;34m[\u001b[0m\u001b[0;36m0\u001b[0m\u001b[0;34m]\u001b[0m\u001b[0;34m,\u001b[0m \u001b[0;34m*\u001b[0m\u001b[0msymbols\u001b[0m\u001b[0;34m,\u001b[0m \u001b[0;34m**\u001b[0m\u001b[0mflags\u001b[0m\u001b[0;34m)\u001b[0m\u001b[0;34m\u001b[0m\u001b[0;34m\u001b[0m\u001b[0m\n\u001b[0m\u001b[1;32m   1066\u001b[0m     \u001b[0;32melse\u001b[0m\u001b[0;34m:\u001b[0m\u001b[0;34m\u001b[0m\u001b[0;34m\u001b[0m\u001b[0m\n\u001b[1;32m   1067\u001b[0m         \u001b[0msolution\u001b[0m \u001b[0;34m=\u001b[0m \u001b[0m_solve_system\u001b[0m\u001b[0;34m(\u001b[0m\u001b[0mf\u001b[0m\u001b[0;34m,\u001b[0m \u001b[0msymbols\u001b[0m\u001b[0;34m,\u001b[0m \u001b[0;34m**\u001b[0m\u001b[0mflags\u001b[0m\u001b[0;34m)\u001b[0m\u001b[0;34m\u001b[0m\u001b[0;34m\u001b[0m\u001b[0m\n",
            "\u001b[0;32m/usr/local/lib/python3.6/dist-packages/sympy/solvers/solvers.py\u001b[0m in \u001b[0;36m_solve\u001b[0;34m(f, *symbols, **flags)\u001b[0m\n\u001b[1;32m   1632\u001b[0m \u001b[0;34m\u001b[0m\u001b[0m\n\u001b[1;32m   1633\u001b[0m     \u001b[0;32mif\u001b[0m \u001b[0mresult\u001b[0m \u001b[0;32mis\u001b[0m \u001b[0;32mFalse\u001b[0m\u001b[0;34m:\u001b[0m\u001b[0;34m\u001b[0m\u001b[0;34m\u001b[0m\u001b[0m\n\u001b[0;32m-> 1634\u001b[0;31m         \u001b[0;32mraise\u001b[0m \u001b[0mNotImplementedError\u001b[0m\u001b[0;34m(\u001b[0m\u001b[0;34m'\\n'\u001b[0m\u001b[0;34m.\u001b[0m\u001b[0mjoin\u001b[0m\u001b[0;34m(\u001b[0m\u001b[0;34m[\u001b[0m\u001b[0mmsg\u001b[0m\u001b[0;34m,\u001b[0m \u001b[0mnot_impl_msg\u001b[0m \u001b[0;34m%\u001b[0m \u001b[0mf\u001b[0m\u001b[0;34m]\u001b[0m\u001b[0;34m)\u001b[0m\u001b[0;34m)\u001b[0m\u001b[0;34m\u001b[0m\u001b[0;34m\u001b[0m\u001b[0m\n\u001b[0m\u001b[1;32m   1635\u001b[0m \u001b[0;34m\u001b[0m\u001b[0m\n\u001b[1;32m   1636\u001b[0m     \u001b[0;32mif\u001b[0m \u001b[0mflags\u001b[0m\u001b[0;34m.\u001b[0m\u001b[0mget\u001b[0m\u001b[0;34m(\u001b[0m\u001b[0;34m'simplify'\u001b[0m\u001b[0;34m,\u001b[0m \u001b[0;32mTrue\u001b[0m\u001b[0;34m)\u001b[0m\u001b[0;34m:\u001b[0m\u001b[0;34m\u001b[0m\u001b[0;34m\u001b[0m\u001b[0m\n",
            "\u001b[0;31mNotImplementedError\u001b[0m: multiple generators [x, sin(x)]\nNo algorithms are implemented to solve equation -x + sin(x)"
          ]
        }
      ]
    },
    {
      "cell_type": "code",
      "metadata": {
        "colab": {
          "base_uri": "https://localhost:8080/",
          "height": 253
        },
        "id": "a2ot-ncoHk2A",
        "outputId": "c5857b4d-13df-47f6-e31c-0e368379c4a4"
      },
      "source": [
        "x = np.linspace(-2,2,1000)\n",
        "\n",
        "# four examples of nonlinear functions\n",
        "f1 = x**2 - x - 1\n",
        "f2 = x**3 - 3 * np.sin(x)\n",
        "f3 = np.exp(x) - 2\n",
        "f4 = 1 - x**2 + np.sin(50/(1 + x**2))\n",
        "\n",
        "# plot each function\n",
        "fig, axes = plt.subplots(1,4,figsize=(12,3), sharey=True)\n",
        "for n, f in enumerate([f1,f2,f3,f4]):\n",
        "    axes[n].plot(x,f,lw=1.5)\n",
        "    axes[n].axhline(0, ls=':', color='k')\n",
        "    axes[n].set_ylim(-5,5)\n",
        "    axes[n].set_xticks([-2,-1,0,1,2])\n",
        "    axes[n].set_xlabel(r'$x$', fontsize=18)\n",
        "\n",
        "axes[0].set_ylabel(r'$f(x)$',fontsize=18)\n",
        "titles = [r'$f(x)=x^2-x-1$'  , r'$f(x)=x^3-3/sin(x)$', \n",
        "          r'$f(x)=\\exp(x)-2$', r'$f(x)=\\sin\\left(50/(1+x^2)\\right)+1-x^2$']\n",
        "for n, title in enumerate(titles):\n",
        "    axes[n].set_title(title)"
      ],
      "execution_count": null,
      "outputs": [
        {
          "output_type": "display_data",
          "data": {
            "image/png": "[encoded data removed]",
            "text/plain": [
              "<Figure size 864x216 with 4 Axes>"
            ]
          },
          "metadata": {
            "tags": [],
            "needs_background": "light"
          }
        }
      ]
    },
    {
      "cell_type": "code",
      "metadata": {
        "colab": {
          "base_uri": "https://localhost:8080/",
          "height": 320
        },
        "id": "ewmsbpAOJCAK",
        "outputId": "f16280ed-83d4-4625-9275-856c0470d693"
      },
      "source": [
        "# bisection method\n",
        "# define a function, desired tolerance and starting interval [a,b]\n",
        "\n",
        "f = lambda x: np.exp(x) - 2\n",
        "tol = 0.1\n",
        "a, b = -2, 2\n",
        "x    = np.linspace(-2.1, 2.1, 1000)\n",
        "\n",
        "# graph the function f\n",
        "fig, ax = plt.subplots(1,1,figsize=(12,4))\n",
        "ax.plot(x, f(x), lw=1.5)\n",
        "ax.axhline(0, ls=':', color='k')\n",
        "\n",
        "ax.plot(x, f(x), lw=1.5)\n",
        "ax.axhline(0, ls=':', color='k')\n",
        "ax.set_xticks([-2,-1,0,1,2])\n",
        "ax.set_xlabel(r'$x$', fontsize=18)\n",
        "ax.set_ylabel(r'$y$', fontsize=18)\n",
        "\n",
        "# find the root using the bisection method and visualize\n",
        "# the steps in the method in the graph\n",
        "fa, fb = f(a), f(b)\n",
        "\n",
        "ax.plot(a, fa,'ko')\n",
        "ax.plot(b, fb,'ko')\n",
        "ax.text(a, fa + 0.5, r\"$a$\", ha='center', fontsize=18)\n",
        "ax.text(b, fb + 0.5, r\"$b$\", ha='center', fontsize=18)\n",
        "\n",
        "n = 1\n",
        "while b - a > tol:\n",
        "    m = a + (b - a)/2\n",
        "    fm = f(m)\n",
        "\n",
        "    ax.plot(m, fm, 'ko')\n",
        "    ax.text(m, fm - 0.5, r\"$m_%d$\" % n, ha='center') \n",
        "    n += 1\n",
        "\n",
        "    if np.sign(fa) == np.sign(fm):\n",
        "        a, fa = m, fm\n",
        "    else:\n",
        "        b, fb = m, fm\n",
        "\n",
        "ax.plot(m, fm, 'r*', markersize=10)\n",
        "ax.annotate(\"Root approximately at %.3f\" % m,\n",
        "            fontsize=14, family=\"serif\",\n",
        "            xy = (a, fm), xycoords='data',\n",
        "            xytext=(-150, +50), textcoords='offset points',\n",
        "            arrowprops=dict(arrowstyle=\"->\", connectionstyle=\"arc3, rad=-.5\"))\n",
        "\n",
        "ax.set_title(\"Bisection method\")"
      ],
      "execution_count": null,
      "outputs": [
        {
          "output_type": "execute_result",
          "data": {
            "text/plain": [
              "Text(0.5, 1.0, 'Bisection method')"
            ]
          },
          "metadata": {
            "tags": []
          },
          "execution_count": 37
        },
        {
          "output_type": "display_data",
          "data": {
            "image/png": "[encoded data removed]",
            "text/plain": [
              "<Figure size 864x288 with 1 Axes>"
            ]
          },
          "metadata": {
            "tags": [],
            "needs_background": "light"
          }
        }
      ]
    },
    {
      "cell_type": "code",
      "metadata": {
        "id": "EjxHl_CTLdzf",
        "colab": {
          "base_uri": "https://localhost:8080/",
          "height": 345
        },
        "outputId": "c0bbd2c8-5186-4758-a124-1e3375085711"
      },
      "source": [
        "# Newton's method\n",
        "# define a function, desired tolerance and starting point xk\n",
        "tol = 0.01\n",
        "xk  = 2\n",
        "\n",
        "s_x = sympy.symbols(\"x\")\n",
        "s_f = sympy.exp(s_x) - 2\n",
        "\n",
        "f   = lambda x: sympy.lambdify(s_x, s_f, 'numpy')(x)\n",
        "fp  = lambda x: sympy.lambdify(s_x, sympy.diff(s_f, s_x), 'numpy')(x)\n",
        "\n",
        "x   = np.linspace(-1, 2.1, 1000)\n",
        "\n",
        "# 근 찾기를 시각화해줄 그래프 설정\n",
        "fig, ax = plt.subplots(1, 1, figsize=(12,4)) \n",
        "ax.plot(x, f(x))\n",
        "ax.axhline(0, ls=':', color='k')\n",
        "\n",
        "# 원하는 허용 값에 도달할 때까지 뉴턴 기법을 반복\n",
        "n = 0\n",
        "while f(xk) > tol:\n",
        "    xk_new = xk - f(xk) / fp(xk)\n",
        "\n",
        "    ax.plot([xk, xk], [0, f(xk)], color='k', ls=':')\n",
        "    ax.plot(xk, f(xk), 'ko')\n",
        "    ax.text(xk, -.5, r'$x_%d$' % n, ha='center')\n",
        "    ax.plot([xk, xk_new], [f(xk), 0], 'k-') \n",
        "\n",
        "    xk = xk_new\n",
        "    n += 1\n",
        "\n",
        "ax.plot(xk, f(xk), 'r+', markersize=15)\n",
        "ax.annotate(\"Root approximately at %.3f\" % xk,\n",
        "            fontsize=14, family=\"serif\",\n",
        "            xy=(xk, f(xk)), xycoords='data',\n",
        "            xytext=(-150, +50), textcoords='offset points',\n",
        "            arrowprops=dict(arrowstyle=\"->\",\n",
        "            connectionstyle=\"arc3, rad=-.5\"))\n",
        "\n",
        "ax.set_title(\"Newton's method\")\n",
        "ax.set_xticks([-1,0,1,2])"
      ],
      "execution_count": null,
      "outputs": [
        {
          "output_type": "execute_result",
          "data": {
            "text/plain": [
              "[<matplotlib.axis.XTick at 0x7f7396ecbb70>,\n",
              " <matplotlib.axis.XTick at 0x7f7396ecbb38>,\n",
              " <matplotlib.axis.XTick at 0x7f7396ecb780>,\n",
              " <matplotlib.axis.XTick at 0x7f7396e072e8>]"
            ]
          },
          "metadata": {
            "tags": []
          },
          "execution_count": 4
        },
        {
          "output_type": "display_data",
          "data": {
            "image/png": "[encoded data removed]",
            "text/plain": [
              "<Figure size 864x288 with 1 Axes>"
            ]
          },
          "metadata": {
            "tags": [],
            "needs_background": "light"
          }
        }
      ]
    },
    {
      "cell_type": "code",
      "metadata": {
        "colab": {
          "base_uri": "https://localhost:8080/",
          "height": 37
        },
        "id": "uOfWdJ2qVHzr",
        "outputId": "adfbab26-e56c-40e0-c3aa-a3f2a14a0005"
      },
      "source": [
        "# bisection method\n",
        "optimize.bisect(lambda x: np.exp(x) - 2, -2, 2)"
      ],
      "execution_count": null,
      "outputs": [
        {
          "output_type": "execute_result",
          "data": {
            "image/png": "[encoded data removed]",
            "text/latex": "$$0.6931471805601177$$",
            "text/plain": [
              "0.6931471805601177"
            ]
          },
          "metadata": {
            "tags": []
          },
          "execution_count": 5
        }
      ]
    },
    {
      "cell_type": "code",
      "metadata": {
        "colab": {
          "base_uri": "https://localhost:8080/",
          "height": 37
        },
        "id": "dbdkEV_EZ8AY",
        "outputId": "05ebd436-c5e0-4bfd-a0aa-947d330e8e58"
      },
      "source": [
        "# Newton's method\n",
        "x_root_guess = 2\n",
        "f      = lambda x: np.exp(x) - 2\n",
        "fprime = lambda x: np.exp(x) \n",
        "\n",
        "optimize.newton(f, x_root_guess)"
      ],
      "execution_count": null,
      "outputs": [
        {
          "output_type": "execute_result",
          "data": {
            "image/png": "[encoded data removed]",
            "text/latex": "$$0.6931471805599455$$",
            "text/plain": [
              "0.6931471805599455"
            ]
          },
          "metadata": {
            "tags": []
          },
          "execution_count": 6
        }
      ]
    },
    {
      "cell_type": "code",
      "metadata": {
        "colab": {
          "base_uri": "https://localhost:8080/",
          "height": 37
        },
        "id": "XfZAK3EJafb6",
        "outputId": "ca59695e-9218-4129-9154-2394ca1db970"
      },
      "source": [
        "optimize.newton(f, x_root_guess, fprime=fprime)"
      ],
      "execution_count": null,
      "outputs": [
        {
          "output_type": "execute_result",
          "data": {
            "image/png": "[encoded data removed]",
            "text/latex": "$$0.6931471805599453$$",
            "text/plain": [
              "0.6931471805599453"
            ]
          },
          "metadata": {
            "tags": []
          },
          "execution_count": 7
        }
      ]
    },
    {
      "cell_type": "code",
      "metadata": {
        "colab": {
          "base_uri": "https://localhost:8080/",
          "height": 37
        },
        "id": "cSzK4YtAaldZ",
        "outputId": "ad935195-856c-49d0-d690-ef315c2dce35"
      },
      "source": [
        "# Brent's method\n",
        "optimize.brentq(lambda x: np.exp(x) - 2, -2, 2)"
      ],
      "execution_count": null,
      "outputs": [
        {
          "output_type": "execute_result",
          "data": {
            "image/png": "[encoded data removed]",
            "text/latex": "$$0.6931471805599453$$",
            "text/plain": [
              "0.6931471805599453"
            ]
          },
          "metadata": {
            "tags": []
          },
          "execution_count": 8
        }
      ]
    },
    {
      "cell_type": "code",
      "metadata": {
        "colab": {
          "base_uri": "https://localhost:8080/",
          "height": 37
        },
        "id": "qlUOOsI3bNz3",
        "outputId": "a22cb52f-c849-4ea4-839d-b029948b6c94"
      },
      "source": [
        "optimize.brenth(lambda x: np.exp(x) - 2, -2, 2)"
      ],
      "execution_count": null,
      "outputs": [
        {
          "output_type": "execute_result",
          "data": {
            "image/png": "[encoded data removed]",
            "text/latex": "$$0.6931471805599381$$",
            "text/plain": [
              "0.6931471805599381"
            ]
          },
          "metadata": {
            "tags": []
          },
          "execution_count": 10
        }
      ]
    },
    {
      "cell_type": "code",
      "metadata": {
        "colab": {
          "base_uri": "https://localhost:8080/"
        },
        "id": "q0pjYKHMbXAv",
        "outputId": "583b01fc-a44e-4774-ee8f-e42dec71b22a"
      },
      "source": [
        "# Systems of Nonlinear Equations\n",
        "def f(x):\n",
        "    return [x[1] - x[0]**3 - 2 * x[0]**2 + 1, x[1] + x[0]**2 - 1]\n",
        "\n",
        "optimize.fsolve(f, [1,1])"
      ],
      "execution_count": null,
      "outputs": [
        {
          "output_type": "execute_result",
          "data": {
            "text/plain": [
              "array([0.73205081, 0.46410162])"
            ]
          },
          "metadata": {
            "tags": []
          },
          "execution_count": 11
        }
      ]
    },
    {
      "cell_type": "code",
      "metadata": {
        "colab": {
          "base_uri": "https://localhost:8080/",
          "height": 58
        },
        "id": "c2zqUzPrdgve",
        "outputId": "4a42f54d-f863-4e51-a629-92f7fbcfd129"
      },
      "source": [
        "x, y  = sympy.symbols(\"x,y\")\n",
        "f_mat = sympy.Matrix([y - x**3 - 2*x**2 + 1, y + x**2 - 1])\n",
        "f_mat.jacobian(sympy.Matrix([x,y]))"
      ],
      "execution_count": null,
      "outputs": [
        {
          "output_type": "execute_result",
          "data": {
            "text/latex": "$$\\left[\\begin{matrix}- 3 x^{2} - 4 x & 1\\\\2 x & 1\\end{matrix}\\right]$$",
            "text/plain": [
              "⎡     2         ⎤\n",
              "⎢- 3⋅x  - 4⋅x  1⎥\n",
              "⎢               ⎥\n",
              "⎣    2⋅x       1⎦"
            ]
          },
          "metadata": {
            "tags": []
          },
          "execution_count": 12
        }
      ]
    },
    {
      "cell_type": "code",
      "metadata": {
        "colab": {
          "base_uri": "https://localhost:8080/"
        },
        "id": "9xiDbhR3d4FB",
        "outputId": "17cc9f0f-e57b-46f0-8cab-9263e554df42"
      },
      "source": [
        "def f_jacobian(x):\n",
        "    return [[-3*x[0]**2 - 4*x[0], 1], [2*x[0], 1]]\n",
        "\n",
        "optimize.fsolve(f, [1,1], fprime=f_jacobian)"
      ],
      "execution_count": null,
      "outputs": [
        {
          "output_type": "execute_result",
          "data": {
            "text/plain": [
              "array([0.73205081, 0.46410162])"
            ]
          },
          "metadata": {
            "tags": []
          },
          "execution_count": 13
        }
      ]
    },
    {
      "cell_type": "code",
      "metadata": {
        "colab": {
          "base_uri": "https://localhost:8080/",
          "height": 304
        },
        "id": "nJp4YIIReqnj",
        "outputId": "20bd9a05-6c51-4806-9898-9c7cea9c9605"
      },
      "source": [
        "def f(x):\n",
        "    return [x[1] - x[0]**3 - 2*x[0]**2 + 1, x[1] + x[0]**2 - 1]\n",
        "\n",
        "x  = np.linspace(-3, 2, 5000)\n",
        "y1 = x**3 + 2*x**2 - 1\n",
        "y2 = -x**2 + 1\n",
        "\n",
        "fig, ax = plt.subplots(figsize=(8,4)) \n",
        "ax.plot(x, y1, 'b', lw=1.5, label=r'$y=x^3 +2x^2 -1$')\n",
        "ax.plot(x, y2, 'g', lw=1.5, label=r'$y=-x^2 + 1$') \n",
        "\n",
        "x_guesses = [[-2,2],[1,-1],[-2,-5]]\n",
        "for x_guess in x_guesses:\n",
        "    sol = optimize.fsolve(f, x_guess)\n",
        "    \n",
        "    ax.plot(sol[0], sol[1], 'r*', markersize=15)\n",
        "    ax.plot(x_guess[0], x_guess[1], 'ko')\n",
        "    ax.annotate(\"\", xy=(sol[0], sol[1]), xytext=(x_guess[0],x_guess[1]),\n",
        "                arrowprops=dict(arrowstyle=\"->\",linewidth=2.5))\n",
        "ax.legend(loc=0)\n",
        "ax.set_xlabel(r'$x$', fontsize=18)"
      ],
      "execution_count": null,
      "outputs": [
        {
          "output_type": "execute_result",
          "data": {
            "text/plain": [
              "Text(0.5, 0, '$x$')"
            ]
          },
          "metadata": {
            "tags": []
          },
          "execution_count": 16
        },
        {
          "output_type": "display_data",
          "data": {
            "image/png": "[encoded data removed]",
            "text/plain": [
              "<Figure size 576x288 with 1 Axes>"
            ]
          },
          "metadata": {
            "tags": [],
            "needs_background": "light"
          }
        }
      ]
    },
    {
      "cell_type": "code",
      "metadata": {
        "id": "kxVG0TGJguhR"
      },
      "source": [
        ""
      ],
      "execution_count": null,
      "outputs": []
    }
  ]
}